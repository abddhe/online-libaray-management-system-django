{
 "cells": [
  {
   "cell_type": "code",
   "execution_count": 13,
   "id": "d3e297b2",
   "metadata": {},
   "outputs": [
    {
     "data": {
      "text/plain": [
       "'26-02-2023'"
      ]
     },
     "execution_count": 13,
     "metadata": {},
     "output_type": "execute_result"
    }
   ],
   "source": [
    "from datetime import timedelta\n",
    "from datetime import datetime\n",
    "(datetime.strptime(\"12-2-2023\", \"%d-%m-%Y\") + timedelta(days=14)).strftime('%d-%m-%Y')"
   ]
  },
  {
   "cell_type": "code",
   "execution_count": 1,
   "id": "e8319160",
   "metadata": {},
   "outputs": [
    {
     "ename": "SyntaxError",
     "evalue": "incomplete input (1348476101.py, line 7)",
     "output_type": "error",
     "traceback": [
      "\u001b[1;36m  Cell \u001b[1;32mIn[1], line 7\u001b[1;36m\u001b[0m\n\u001b[1;33m    if a + b + c == 2077:\u001b[0m\n\u001b[1;37m                         ^\u001b[0m\n\u001b[1;31mSyntaxError\u001b[0m\u001b[1;31m:\u001b[0m incomplete input\n"
     ]
    }
   ],
   "source": [
    "list_a = [1,3,4,5]\n",
    "list_b = [1,2,3,4]\n",
    "list_c = list\n",
    "for a in list_a:\n",
    "    for b in list_b:\n",
    "        if b === a:\n",
    "        for c in list_c:\n",
    "            if a + b + c == 2077:"
   ]
  },
  {
   "cell_type": "code",
   "execution_count": null,
   "id": "f3630c4d",
   "metadata": {},
   "outputs": [],
   "source": []
  }
 ],
 "metadata": {
  "kernelspec": {
   "display_name": "online_library_system",
   "language": "python",
   "name": "python3"
  },
  "language_info": {
   "codemirror_mode": {
    "name": "ipython",
    "version": 3
   },
   "file_extension": ".py",
   "mimetype": "text/x-python",
   "name": "python",
   "nbconvert_exporter": "python",
   "pygments_lexer": "ipython3",
   "version": "3.11.0"
  },
  "vscode": {
   "interpreter": {
    "hash": "63131f4774b95172468d92afcb450d17e3ba8802d251de03a0886280c0b6ae4b"
   }
  }
 },
 "nbformat": 4,
 "nbformat_minor": 5
}
